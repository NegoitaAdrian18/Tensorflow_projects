{
  "nbformat": 4,
  "nbformat_minor": 0,
  "metadata": {
    "colab": {
      "provenance": [],
      "authorship_tag": "ABX9TyM+XP9Bp+ymPpethQK9em1s",
      "include_colab_link": true
    },
    "kernelspec": {
      "name": "python3",
      "display_name": "Python 3"
    },
    "language_info": {
      "name": "python"
    },
    "gpuClass": "standard",
    "accelerator": "GPU"
  },
  "cells": [
    {
      "cell_type": "markdown",
      "metadata": {
        "id": "view-in-github",
        "colab_type": "text"
      },
      "source": [
        "<a href=\"https://colab.research.google.com/github/NegoitaAdrian18/Tensorflow_projects/blob/main/4_1_Transfer_Learning_with_TF.ipynb\" target=\"_parent\"><img src=\"https://colab.research.google.com/assets/colab-badge.svg\" alt=\"Open In Colab\"/></a>"
      ]
    },
    {
      "cell_type": "markdown",
      "source": [
        "### **Referinte**\n",
        "\n",
        "https://paperswithcode.com/\n",
        "\n"
      ],
      "metadata": {
        "id": "U82TIHHetXoH"
      }
    },
    {
      "cell_type": "markdown",
      "source": [
        "### **Tranfer Learning with TensorFlow part. 1: Feature Extraction\n",
        "\n",
        "Transfer learning is leveraging a working model's existing architecture and learned patterns for  our own problem.\n",
        "\n",
        "There are 2 main benefits:\n",
        "\n",
        "  1. Can leverage an existing neural network architecture proven to work on problems similar to our own. \n",
        "  2. Can leverage a working neural network architecture which has already learned patterns on similar data to our own, then we can adapt those patterns to our own data. "
      ],
      "metadata": {
        "id": "b0sg_xI8Wxlf"
      }
    },
    {
      "cell_type": "code",
      "execution_count": null,
      "metadata": {
        "colab": {
          "base_uri": "https://localhost:8080/"
        },
        "id": "4VesBWhmTXh8",
        "outputId": "13bb4e3f-b667-45dd-fc64-0a482d77fb9c"
      },
      "outputs": [
        {
          "output_type": "stream",
          "name": "stdout",
          "text": [
            "Tue Aug  9 11:44:09 2022       \n",
            "+-----------------------------------------------------------------------------+\n",
            "| NVIDIA-SMI 460.32.03    Driver Version: 460.32.03    CUDA Version: 11.2     |\n",
            "|-------------------------------+----------------------+----------------------+\n",
            "| GPU  Name        Persistence-M| Bus-Id        Disp.A | Volatile Uncorr. ECC |\n",
            "| Fan  Temp  Perf  Pwr:Usage/Cap|         Memory-Usage | GPU-Util  Compute M. |\n",
            "|                               |                      |               MIG M. |\n",
            "|===============================+======================+======================|\n",
            "|   0  Tesla T4            Off  | 00000000:00:04.0 Off |                    0 |\n",
            "| N/A   36C    P8     9W /  70W |      0MiB / 15109MiB |      0%      Default |\n",
            "|                               |                      |                  N/A |\n",
            "+-------------------------------+----------------------+----------------------+\n",
            "                                                                               \n",
            "+-----------------------------------------------------------------------------+\n",
            "| Processes:                                                                  |\n",
            "|  GPU   GI   CI        PID   Type   Process name                  GPU Memory |\n",
            "|        ID   ID                                                   Usage      |\n",
            "|=============================================================================|\n",
            "|  No running processes found                                                 |\n",
            "+-----------------------------------------------------------------------------+\n"
          ]
        }
      ],
      "source": [
        "# Check if i'm using the GPU:\n",
        "\n",
        "!nvidia-smi"
      ]
    },
    {
      "cell_type": "markdown",
      "source": [
        "> **Download and prepare the data**\n",
        "\n",
        "- Get data (10 % of 10 food classes from Food101 ) "
      ],
      "metadata": {
        "id": "fofnsIjKYirB"
      }
    },
    {
      "cell_type": "code",
      "source": [
        "import zipfile\n",
        "\n",
        "!wget https://storage.googleapis.com/ztm_tf_course/food_vision/10_food_classes_10_percent.zip\n",
        "\n",
        "\n",
        "# Unzip the downloaded file \n",
        "\n",
        "zip_ref = zipfile.ZipFile(\"10_food_classes_10_percent.zip\")\n",
        "zip_ref.extractall()\n",
        "zip_ref.close()\n"
      ],
      "metadata": {
        "colab": {
          "base_uri": "https://localhost:8080/"
        },
        "id": "TDqVVHhMYoHE",
        "outputId": "760d7add-aae2-4ed9-f51f-f4ad43b0281b"
      },
      "execution_count": null,
      "outputs": [
        {
          "output_type": "stream",
          "name": "stdout",
          "text": [
            "--2022-08-09 11:44:09--  https://storage.googleapis.com/ztm_tf_course/food_vision/10_food_classes_10_percent.zip\n",
            "Resolving storage.googleapis.com (storage.googleapis.com)... 142.251.12.128, 74.125.200.128, 74.125.130.128, ...\n",
            "Connecting to storage.googleapis.com (storage.googleapis.com)|142.251.12.128|:443... connected.\n",
            "HTTP request sent, awaiting response... 200 OK\n",
            "Length: 168546183 (161M) [application/zip]\n",
            "Saving to: ‘10_food_classes_10_percent.zip’\n",
            "\n",
            "10_food_classes_10_ 100%[===================>] 160.74M   174MB/s    in 0.9s    \n",
            "\n",
            "2022-08-09 11:44:11 (174 MB/s) - ‘10_food_classes_10_percent.zip’ saved [168546183/168546183]\n",
            "\n"
          ]
        }
      ]
    },
    {
      "cell_type": "code",
      "source": [
        "# Inspect the data\n",
        "\n",
        "import os \n",
        "\n",
        "# Walk through 10 percent data directory and list number of files\n",
        "\n",
        "for dirpath, dirnames, filenames in os.walk(\"10_food_classes_10_percent\"):\n",
        "  print(f\"There are {len(dirnames)} directories and {len(filenames)} images in {dirpath}\")"
      ],
      "metadata": {
        "colab": {
          "base_uri": "https://localhost:8080/"
        },
        "id": "1kKdZ-DRZufQ",
        "outputId": "36dfce16-82d7-42d9-8cdf-08b43e7cc4d1"
      },
      "execution_count": null,
      "outputs": [
        {
          "output_type": "stream",
          "name": "stdout",
          "text": [
            "There are 2 directories and 0 images in 10_food_classes_10_percent\n",
            "There are 10 directories and 0 images in 10_food_classes_10_percent/test\n",
            "There are 0 directories and 250 images in 10_food_classes_10_percent/test/sushi\n",
            "There are 0 directories and 250 images in 10_food_classes_10_percent/test/chicken_wings\n",
            "There are 0 directories and 250 images in 10_food_classes_10_percent/test/grilled_salmon\n",
            "There are 0 directories and 250 images in 10_food_classes_10_percent/test/hamburger\n",
            "There are 0 directories and 250 images in 10_food_classes_10_percent/test/fried_rice\n",
            "There are 0 directories and 250 images in 10_food_classes_10_percent/test/pizza\n",
            "There are 0 directories and 250 images in 10_food_classes_10_percent/test/chicken_curry\n",
            "There are 0 directories and 250 images in 10_food_classes_10_percent/test/steak\n",
            "There are 0 directories and 250 images in 10_food_classes_10_percent/test/ramen\n",
            "There are 0 directories and 250 images in 10_food_classes_10_percent/test/ice_cream\n",
            "There are 10 directories and 0 images in 10_food_classes_10_percent/train\n",
            "There are 0 directories and 75 images in 10_food_classes_10_percent/train/sushi\n",
            "There are 0 directories and 75 images in 10_food_classes_10_percent/train/chicken_wings\n",
            "There are 0 directories and 75 images in 10_food_classes_10_percent/train/grilled_salmon\n",
            "There are 0 directories and 75 images in 10_food_classes_10_percent/train/hamburger\n",
            "There are 0 directories and 75 images in 10_food_classes_10_percent/train/fried_rice\n",
            "There are 0 directories and 75 images in 10_food_classes_10_percent/train/pizza\n",
            "There are 0 directories and 75 images in 10_food_classes_10_percent/train/chicken_curry\n",
            "There are 0 directories and 75 images in 10_food_classes_10_percent/train/steak\n",
            "There are 0 directories and 75 images in 10_food_classes_10_percent/train/ramen\n",
            "There are 0 directories and 75 images in 10_food_classes_10_percent/train/ice_cream\n"
          ]
        }
      ]
    },
    {
      "cell_type": "markdown",
      "source": [
        "** Preparing the data \n",
        "\n",
        "- I'll use the ImageDataGenerator class to load in our images in batches."
      ],
      "metadata": {
        "id": "V1UjELlbbSsT"
      }
    },
    {
      "cell_type": "code",
      "source": [
        "# Setup data inputs\n",
        "\n",
        "from tensorflow.keras.preprocessing.image import ImageDataGenerator\n",
        "\n",
        "# Voi defini Hyper-parametrii:\n",
        "\n",
        "IMAGE_SHAPE = (224, 224)\n",
        "BATCH_SIZE = 32\n",
        "EPOCHS = 5\n",
        "\n",
        "train_dir = \"10_food_classes_10_percent/train/\"      # Definesc directorul cu date de antrenament\n",
        "test_dir = \"10_food_classes_10_percent/test/\"         # Definesc directorul cu date de test\n",
        "\n",
        "train_datagen = ImageDataGenerator(rescale=1/255.)    # Normalizez datele de antrenament\n",
        "test_datagen = ImageDataGenerator(rescale=1/255.)     # Normalizez datele de test\n",
        "\n",
        "\n",
        "print(\"Training images: \")\n",
        "train_data_10_percent = train_datagen.flow_from_directory(train_dir,\n",
        "                                                          target_size=IMAGE_SHAPE,\n",
        "                                                          batch_size=BATCH_SIZE,\n",
        "                                                          class_mode=\"categorical\")\n",
        "\n",
        "print(\"Test images: \")\n",
        "test_data = test_datagen.flow_from_directory(test_dir,\n",
        "                                             target_size=IMAGE_SHAPE,\n",
        "                                             batch_size=BATCH_SIZE,\n",
        "                                             class_mode=\"categorical\")\n",
        "\n",
        "\n"
      ],
      "metadata": {
        "colab": {
          "base_uri": "https://localhost:8080/"
        },
        "id": "Dh4mXMM6bd6i",
        "outputId": "25137c48-fe36-4c3f-bd63-8abdfe30e8f3"
      },
      "execution_count": null,
      "outputs": [
        {
          "output_type": "stream",
          "name": "stdout",
          "text": [
            "Training images: \n",
            "Found 750 images belonging to 10 classes.\n",
            "Test images: \n",
            "Found 2500 images belonging to 10 classes.\n"
          ]
        }
      ]
    },
    {
      "cell_type": "markdown",
      "source": [
        "> **Setting up callbacks (things to run whil our model trains)\n",
        "\n",
        "Callbacks are extra functionality you can add to your models to be performed during or after training. Some of the most popular callbacks:\n",
        "\n",
        "* Tracking experiments with the TensorBoard callback;\n",
        "* Model checlpoint with the ModelCheckpoint callback;\n",
        "* Stopping a model from trainig (before it trains to loong and overfits) with the EarlyStopping callback\n",
        "* etc. \n",
        "\n",
        "-- Verifica in documentatie: tf.keras.callbacks.Callback\n",
        "\n"
      ],
      "metadata": {
        "id": "BTbHrx7xe-9-"
      }
    },
    {
      "cell_type": "markdown",
      "source": [
        "** Create TensorBoard callback ( functionized because we need to create a new one for each model )**\n"
      ],
      "metadata": {
        "id": "_ylk7A5VhXNw"
      }
    },
    {
      "cell_type": "code",
      "source": [],
      "metadata": {
        "id": "_-KAoIi1j_Ul"
      },
      "execution_count": null,
      "outputs": []
    },
    {
      "cell_type": "code",
      "source": [
        "import datetime\n",
        "\n",
        "def create_tensorboard_callback(dir_name, experiment_name):\n",
        "  log_dir = dir_name + \"/\" + experiment_name + \"/\" + datetime.datetime.now().strftime(\"%Y%m%d-%H%M%S\") # This will creating a directory path of where to store\n",
        "  # So the directory path is going to be directory name / the subdirectory with the experiment name / The date time. \n",
        "\n",
        "  tensorboard_callback = tf.keras.callbacks.TensorBoard(log_dir = log_dir)\n",
        "  print(f\"Saving TensorBoard log files to: {log_dir}\")\n",
        "  return tensorboard_callback\n"
      ],
      "metadata": {
        "id": "M_h4tsJuhpjN"
      },
      "execution_count": null,
      "outputs": []
    },
    {
      "cell_type": "markdown",
      "source": [
        "### **Creating models using TensorFlow HUB**"
      ],
      "metadata": {
        "id": "EIvMjfn9rdto"
      }
    },
    {
      "cell_type": "markdown",
      "source": [
        "> I used TensorFlow to create my own models layer by layer from scratch.\n",
        "\n",
        "> Now i'm going to do a similar process, except the majority of our model's layers are going to come from TensorFlow HUB. \n",
        "\n",
        "> I can access pretraind models on: https://tfhub.dev/\n",
        "\n",
        "> Feature vector model link: https://tfhub.dev/tensorflow/efficientnet/b0/feature-vector/1\n"
      ],
      "metadata": {
        "id": "EDI99ovyrlR8"
      }
    },
    {
      "cell_type": "markdown",
      "source": [
        "Compare the following 2 models"
      ],
      "metadata": {
        "id": "4Yk_QOY-y7Wk"
      }
    },
    {
      "cell_type": "code",
      "source": [
        "resnet_url = \"https://tfhub.dev/google/imagenet/resnet_v2_50/feature_vector/4\"\n",
        "\n",
        "efficientnet_url = \"https://tfhub.dev/tensorflow/efficientnet/b0/feature-vector/1\"\n"
      ],
      "metadata": {
        "id": "meQWAKzxrk21"
      },
      "execution_count": null,
      "outputs": []
    },
    {
      "cell_type": "code",
      "source": [
        "# Import dependencies\n",
        "\n",
        "import tensorflow as tf\n",
        "import tensorflow_hub as hub\n",
        "from tensorflow.keras import layers\n"
      ],
      "metadata": {
        "id": "Ek9t-s23zh4h"
      },
      "execution_count": null,
      "outputs": []
    },
    {
      "cell_type": "code",
      "source": [
        "IMAGE_SHAPE + ((3),)"
      ],
      "metadata": {
        "colab": {
          "base_uri": "https://localhost:8080/"
        },
        "id": "8wjVrmnr2ly5",
        "outputId": "8b5422be-e417-44db-f3ec-ca1f5bf6509e"
      },
      "execution_count": null,
      "outputs": [
        {
          "output_type": "execute_result",
          "data": {
            "text/plain": [
              "(224, 224, 3)"
            ]
          },
          "metadata": {},
          "execution_count": 8
        }
      ]
    },
    {
      "cell_type": "code",
      "source": [
        "# Let' s make create a model() function to create a model from URL \n",
        "\n",
        "def create_model(model_url, num_classes=10):\n",
        "  \"\"\"\n",
        "  Takes a TensorFlow HUB URL and creates a Keras Sequential model with it.\n",
        "\n",
        "  Args: \n",
        "    model_url (str): A TensorFlow Hub feature extraction URL.\n",
        "    num_classes (int): Number of output neurons in the output layer,\n",
        "      should be equal to number of target classes, default 10.\n",
        "\n",
        "  Returns:\n",
        "    An uncompiled Keras Sequential model with model_url as feature extractor\n",
        "    layer and Dense output layer with num_classes output neurons.\n",
        "\n",
        "  \"\"\"\n",
        "\n",
        "  # Download the pretrained model and save it as a Keras layer\n",
        "\n",
        "  feature_extractor_layer = hub.KerasLayer(model_url,\n",
        "                                            trainable=False, # freeze the already learned patterns\n",
        "                                            name = \"feature_extraction_layer\",\n",
        "                                            input_shape=IMAGE_SHAPE+(3,))\n",
        "  \n",
        "  # Create the model \n",
        "\n",
        "  model = tf.keras.Sequential([\n",
        "      feature_extractor_layer,\n",
        "      layers.Dense(num_classes, activation='softmax', name='output_layer')  # The only trainable parameters is the output layer. The only patterns that are going to train.\n",
        "  ])\n",
        "\n",
        "  return model\n"
      ],
      "metadata": {
        "id": "ATP2qN6N0DLU"
      },
      "execution_count": null,
      "outputs": []
    },
    {
      "cell_type": "markdown",
      "source": [
        "### **Creating and testing ResNet TensorFlow Hub Feature Extraction model**\n"
      ],
      "metadata": {
        "id": "IsCt8K2W30TT"
      }
    },
    {
      "cell_type": "code",
      "source": [
        "# Creata Resnet model \n",
        "\n",
        "resnet_model = create_model(resnet_url,\n",
        "                            num_classes=train_data_10_percent.num_classes)"
      ],
      "metadata": {
        "id": "fx8iYyYQ3xge"
      },
      "execution_count": null,
      "outputs": []
    },
    {
      "cell_type": "code",
      "source": [
        "train_data_10_percent.num_classes"
      ],
      "metadata": {
        "colab": {
          "base_uri": "https://localhost:8080/"
        },
        "id": "s6q8mSg84XkB",
        "outputId": "d3b2aae2-9469-4c7e-dbb8-30a337a317c9"
      },
      "execution_count": null,
      "outputs": [
        {
          "output_type": "execute_result",
          "data": {
            "text/plain": [
              "10"
            ]
          },
          "metadata": {},
          "execution_count": 11
        }
      ]
    },
    {
      "cell_type": "code",
      "source": [
        "resnet_model.summary()"
      ],
      "metadata": {
        "colab": {
          "base_uri": "https://localhost:8080/"
        },
        "id": "hQi35BPl4kE1",
        "outputId": "35c69f1c-78ec-4b98-a444-011c276816b1"
      },
      "execution_count": null,
      "outputs": [
        {
          "output_type": "stream",
          "name": "stdout",
          "text": [
            "Model: \"sequential\"\n",
            "_________________________________________________________________\n",
            " Layer (type)                Output Shape              Param #   \n",
            "=================================================================\n",
            " feature_extraction_layer (K  (None, 2048)             23564800  \n",
            " erasLayer)                                                      \n",
            "                                                                 \n",
            " output_layer (Dense)        (None, 10)                20490     \n",
            "                                                                 \n",
            "=================================================================\n",
            "Total params: 23,585,290\n",
            "Trainable params: 20,490\n",
            "Non-trainable params: 23,564,800\n",
            "_________________________________________________________________\n"
          ]
        }
      ]
    },
    {
      "cell_type": "code",
      "source": [
        "# Compile the resnet_model\n",
        "\n",
        "resnet_model.compile(loss=\"categorical_crossentropy\",\n",
        "                     optimizer=tf.keras.optimizers.Adam(),\n",
        "                     metrics=['accuracy'])"
      ],
      "metadata": {
        "id": "frTPef3047yr"
      },
      "execution_count": null,
      "outputs": []
    },
    {
      "cell_type": "code",
      "source": [
        "# Fit the model \n",
        "\n",
        "resnet_history = resnet_model.fit(train_data_10_percent,\n",
        "                                  epochs = 5,\n",
        "                                  steps_per_epoch = len(train_data_10_percent),\n",
        "                                  validation_data = test_data,\n",
        "                                  validation_steps = len(test_data),\n",
        "                                  callbacks = [create_tensorboard_callback(dir_name=\"tensorflow_hub\",\n",
        "                                                                           experiment_name=\"resnet50v2\")])"
      ],
      "metadata": {
        "colab": {
          "base_uri": "https://localhost:8080/"
        },
        "id": "mmri1HR65xhw",
        "outputId": "c1e7499b-e2f9-47e2-ab19-ba6eb3193e19"
      },
      "execution_count": null,
      "outputs": [
        {
          "output_type": "stream",
          "name": "stdout",
          "text": [
            "Saving TensorBoard log files to: tensorflow_hub/resnet50v2/20220809-114425\n",
            "Epoch 1/5\n",
            "24/24 [==============================] - 35s 839ms/step - loss: 2.0226 - accuracy: 0.3307 - val_loss: 1.1930 - val_accuracy: 0.6168\n",
            "Epoch 2/5\n",
            "24/24 [==============================] - 16s 692ms/step - loss: 0.9278 - accuracy: 0.7093 - val_loss: 0.8479 - val_accuracy: 0.7292\n",
            "Epoch 3/5\n",
            "24/24 [==============================] - 16s 691ms/step - loss: 0.6409 - accuracy: 0.8067 - val_loss: 0.7620 - val_accuracy: 0.7516\n",
            "Epoch 4/5\n",
            "24/24 [==============================] - 16s 690ms/step - loss: 0.4919 - accuracy: 0.8613 - val_loss: 0.6866 - val_accuracy: 0.7800\n",
            "Epoch 5/5\n",
            "24/24 [==============================] - 16s 699ms/step - loss: 0.3821 - accuracy: 0.9160 - val_loss: 0.6551 - val_accuracy: 0.7896\n"
          ]
        }
      ]
    },
    {
      "cell_type": "markdown",
      "source": [
        "# Create a function to plot the loss curves**"
      ],
      "metadata": {
        "id": "B6HwBHJ384B4"
      }
    },
    {
      "cell_type": "code",
      "source": [
        "import matplotlib.pyplot as plt\n",
        "\n",
        "# Plot the validation and training curves\n",
        "def plot_loss_curves(history):\n",
        "  \"\"\"\n",
        "  Returns separate loss curves for training and validation metrics.\n",
        "\n",
        "  Args:\n",
        "    history: TensorFlow History object.\n",
        "\n",
        "    Returns:\n",
        "      Plots of training/validation loss and accuracy metrics.\n",
        "  \"\"\"\n",
        "  loss = history.history['loss']\n",
        "  val_loss = history.history['val_loss']\n",
        "\n",
        "  accuracy = history.history['accuracy']\n",
        "  val_accuracy = history.history['val_accuracy']\n",
        "\n",
        "  epochs = range(len(history.history['loss']))\n",
        "\n",
        "  # Plot loss\n",
        "  plt.plot(epochs, loss, label=\"training_loss\")\n",
        "  plt.plot(epochs, val_loss, label=\"val_loss\")\n",
        "  plt.title('Loss')\n",
        "  plt.xlabel(\"Epochs\")\n",
        "  plt.legend()\n",
        "\n",
        "  # Plot accuracy\n",
        "  plt.figure()\n",
        "  plt.plot(epochs, accuracy, label=\"traininf_accuracy\")\n",
        "  plt.plot(epochs, val_accuracy, label=\"val_accuracy\")\n",
        "  plt.title(\"Accuracy\")\n",
        "  plt.xlabel('Epochs')\n",
        "  plt.legend()\n"
      ],
      "metadata": {
        "id": "NcZTgQEu9Hfz"
      },
      "execution_count": null,
      "outputs": []
    },
    {
      "cell_type": "code",
      "source": [
        "plot_loss_curves(resnet_history)"
      ],
      "metadata": {
        "colab": {
          "base_uri": "https://localhost:8080/",
          "height": 573
        },
        "id": "jkO27R3J_RZG",
        "outputId": "96a71a89-e514-4c89-bd67-cfa77af1542c"
      },
      "execution_count": null,
      "outputs": [
        {
          "output_type": "display_data",
          "data": {
            "text/plain": [
              "<Figure size 432x288 with 1 Axes>"
            ],
            "image/png": "[encoded data removed]"
          },
          "metadata": {
            "needs_background": "light"
          }
        },
        {
          "output_type": "display_data",
          "data": {
            "text/plain": [
              "<Figure size 432x288 with 1 Axes>"
            ],
            "image/png": "[encoded data removed]"
          },
          "metadata": {
            "needs_background": "light"
          }
        }
      ]
    },
    {
      "cell_type": "markdown",
      "source": [
        "### **Creating and testing EfficientNetB0 TensorFlow Hub Feature Extraction model**\n"
      ],
      "metadata": {
        "id": "MkV93XAa_z0-"
      }
    },
    {
      "cell_type": "code",
      "source": [
        "from gc import callbacks\n",
        "efficientnet_model = create_model(model_url=efficientnet_url,\n",
        "                                  num_classes=train_data_10_percent.num_classes)\n",
        "\n",
        "# Compile the model\n",
        "efficientnet_model.compile(loss=\"categorical_crossentropy\",\n",
        "                           optimizer=tf.keras.optimizers.Adam(),\n",
        "                           metrics=['accuracy'])\n",
        "\n",
        "# Fit the model \n",
        "efficientnet_history = efficientnet_model.fit(train_data_10_percent,\n",
        "                                              epochs=5,\n",
        "                                              steps_per_epoch=len(train_data_10_percent),\n",
        "                                              validation_data=test_data,\n",
        "                                              validation_steps=len(test_data),\n",
        "                                              callbacks=[create_tensorboard_callback(dir_name=\"tensorflow_hub\",\n",
        "                                                                                     experiment_name=\"efficientnetb0\")])\n"
      ],
      "metadata": {
        "id": "oEgygVED_9nN",
        "colab": {
          "base_uri": "https://localhost:8080/"
        },
        "outputId": "534e767c-b1f6-4c5d-cb29-a869d27f513f"
      },
      "execution_count": null,
      "outputs": [
        {
          "output_type": "stream",
          "name": "stdout",
          "text": [
            "Saving TensorBoard log files to: tensorflow_hub/efficientnetb0/20220809-115251\n",
            "Epoch 1/5\n",
            "24/24 [==============================] - 27s 739ms/step - loss: 1.8169 - accuracy: 0.4533 - val_loss: 1.2721 - val_accuracy: 0.7116\n",
            "Epoch 2/5\n",
            "24/24 [==============================] - 16s 706ms/step - loss: 1.0427 - accuracy: 0.7800 - val_loss: 0.8649 - val_accuracy: 0.8144\n",
            "Epoch 3/5\n",
            "24/24 [==============================] - 16s 678ms/step - loss: 0.7509 - accuracy: 0.8373 - val_loss: 0.6997 - val_accuracy: 0.8476\n",
            "Epoch 4/5\n",
            "24/24 [==============================] - 16s 668ms/step - loss: 0.6013 - accuracy: 0.8747 - val_loss: 0.6139 - val_accuracy: 0.8556\n",
            "Epoch 5/5\n",
            "24/24 [==============================] - 16s 666ms/step - loss: 0.5100 - accuracy: 0.8920 - val_loss: 0.5593 - val_accuracy: 0.8608\n"
          ]
        }
      ]
    },
    {
      "cell_type": "code",
      "source": [
        "plot_loss_curves(efficientnet_history)"
      ],
      "metadata": {
        "colab": {
          "base_uri": "https://localhost:8080/",
          "height": 573
        },
        "id": "j8qP0QUwdc0-",
        "outputId": "f0ac3c30-226a-4961-cbbf-71d30f3278da"
      },
      "execution_count": null,
      "outputs": [
        {
          "output_type": "display_data",
          "data": {
            "text/plain": [
              "<Figure size 432x288 with 1 Axes>"
            ],
            "image/png": "[encoded data removed]"
          },
          "metadata": {
            "needs_background": "light"
          }
        },
        {
          "output_type": "display_data",
          "data": {
            "text/plain": [
              "<Figure size 432x288 with 1 Axes>"
            ],
            "image/png": "[encoded data removed]"
          },
          "metadata": {
            "needs_background": "light"
          }
        }
      ]
    },
    {
      "cell_type": "code",
      "source": [
        "efficientnet_model.summary()"
      ],
      "metadata": {
        "colab": {
          "base_uri": "https://localhost:8080/"
        },
        "id": "g6p3WXRyd7ct",
        "outputId": "e7360d63-532d-4189-de59-8f7537a01f08"
      },
      "execution_count": null,
      "outputs": [
        {
          "output_type": "stream",
          "name": "stdout",
          "text": [
            "Model: \"sequential_1\"\n",
            "_________________________________________________________________\n",
            " Layer (type)                Output Shape              Param #   \n",
            "=================================================================\n",
            " feature_extraction_layer (K  (None, 1280)             4049564   \n",
            " erasLayer)                                                      \n",
            "                                                                 \n",
            " output_layer (Dense)        (None, 10)                12810     \n",
            "                                                                 \n",
            "=================================================================\n",
            "Total params: 4,062,374\n",
            "Trainable params: 12,810\n",
            "Non-trainable params: 4,049,564\n",
            "_________________________________________________________________\n"
          ]
        }
      ]
    },
    {
      "cell_type": "code",
      "source": [
        "resnet_model.summary()"
      ],
      "metadata": {
        "colab": {
          "base_uri": "https://localhost:8080/"
        },
        "id": "Cn-lmfmteGBY",
        "outputId": "9fd39408-6102-4d80-f8ab-797dd8c85cd9"
      },
      "execution_count": null,
      "outputs": [
        {
          "output_type": "stream",
          "name": "stdout",
          "text": [
            "Model: \"sequential\"\n",
            "_________________________________________________________________\n",
            " Layer (type)                Output Shape              Param #   \n",
            "=================================================================\n",
            " feature_extraction_layer (K  (None, 2048)             23564800  \n",
            " erasLayer)                                                      \n",
            "                                                                 \n",
            " output_layer (Dense)        (None, 10)                20490     \n",
            "                                                                 \n",
            "=================================================================\n",
            "Total params: 23,585,290\n",
            "Trainable params: 20,490\n",
            "Non-trainable params: 23,564,800\n",
            "_________________________________________________________________\n"
          ]
        }
      ]
    },
    {
      "cell_type": "code",
      "source": [
        "# number of layers in the model \n",
        "\n",
        "efficientnet_model.layers"
      ],
      "metadata": {
        "colab": {
          "base_uri": "https://localhost:8080/"
        },
        "id": "do98-3A7gBC5",
        "outputId": "811e3383-8a3b-4d51-e66e-38c71715ff02"
      },
      "execution_count": null,
      "outputs": [
        {
          "output_type": "execute_result",
          "data": {
            "text/plain": [
              "[<tensorflow_hub.keras_layer.KerasLayer at 0x7fdb92911110>,\n",
              " <keras.layers.core.dense.Dense at 0x7fd937ff3610>]"
            ]
          },
          "metadata": {},
          "execution_count": 21
        }
      ]
    },
    {
      "cell_type": "code",
      "source": [
        "# numbers of weights of the model \n",
        "\n",
        "#efficientnet_model.weights\n",
        "len(efficientnet_model.weights)"
      ],
      "metadata": {
        "colab": {
          "base_uri": "https://localhost:8080/"
        },
        "id": "QZ8EDMNTgKjN",
        "outputId": "4adf45ba-2b12-4ba1-c6a2-78f189df47b9"
      },
      "execution_count": null,
      "outputs": [
        {
          "output_type": "execute_result",
          "data": {
            "text/plain": [
              "311"
            ]
          },
          "metadata": {},
          "execution_count": 23
        }
      ]
    },
    {
      "cell_type": "markdown",
      "source": [
        "## Difirent types of transfer learning"
      ],
      "metadata": {
        "id": "JZaxV5NXePuG"
      }
    },
    {
      "cell_type": "markdown",
      "source": [
        "* **As is transfer learning** - using an existing model with no changes what so ever ( e.g. using ImageNet model on 1000 ImageNet classes, none of your own);\n",
        "\n",
        "* **Feature extraction** transfer learning - use the prelearned patterns of an existing model ( e.g. EfficientNetB0 trained in ImageNet ) and adjust the output layer for your own problem (e.g. 1000 classes -> 10 classes of food);\n",
        "\n",
        "* **Fine-tuning** transder learning - use the prelearned patterns of an existing model and \"fine-tune\" many or all of the underlying layers (including new output layers)."
      ],
      "metadata": {
        "id": "DZR5TLDFeX1I"
      }
    },
    {
      "cell_type": "markdown",
      "source": [
        "### **Comparing the models results using TensorBoard**\n",
        "\n",
        "https://tensorboard.dev/\n"
      ],
      "metadata": {
        "id": "jsAvfSd1hkuJ"
      }
    },
    {
      "cell_type": "code",
      "source": [
        "# Upload the TensorBoard dev records\n",
        "\n",
        "!tensorboard dev upload --logdir ./tensorflow_hub/ \\\n",
        "--name \"EfficientNetB0 vs. ResNet50V2\" \\\n",
        "--description \"Comparing two different TF Hub feature extraction model architectures using 10% of the training data\" \\\n",
        "--one_shot"
      ],
      "metadata": {
        "colab": {
          "base_uri": "https://localhost:8080/"
        },
        "id": "XazSdjbJhp_h",
        "outputId": "e30f7f85-c727-44ad-b204-9247fcfea463"
      },
      "execution_count": null,
      "outputs": [
        {
          "output_type": "stream",
          "name": "stdout",
          "text": [
            "\n",
            "***** TensorBoard Uploader *****\n",
            "\n",
            "This will upload your TensorBoard logs to https://tensorboard.dev/ from\n",
            "the following directory:\n",
            "\n",
            "./tensorflow_hub/\n",
            "\n",
            "This TensorBoard will be visible to everyone. Do not upload sensitive\n",
            "data.\n",
            "\n",
            "Your use of this service is subject to Google's Terms of Service\n",
            "<https://policies.google.com/terms> and Privacy Policy\n",
            "<https://policies.google.com/privacy>, and TensorBoard.dev's Terms of Service\n",
            "<https://tensorboard.dev/policy/terms/>.\n",
            "\n",
            "This notice will not be shown again while you are logged into the uploader.\n",
            "To log out, run `tensorboard dev auth revoke`.\n",
            "\n",
            "Continue? (yes/NO) yes\n",
            "\n",
            "Please visit this URL to authorize this application: https://accounts.google.com/o/oauth2/auth?response_type=code&client_id=373649185512-8v619h5kft38l4456nm2dj4ubeqsrvh6.apps.googleusercontent.com&redirect_uri=urn%3Aietf%3Awg%3Aoauth%3A2.0%3Aoob&scope=openid+https%3A%2F%2Fwww.googleapis.com%2Fauth%2Fuserinfo.email&state=NW3d8syUGpx0ts3qCF6IBHiziqmQAc&prompt=consent&access_type=offline\n",
            "Enter the authorization code: 4/1AdQt8qhq9B4ENAt414fvwBjYkcOPr2dGzQytQiE1fKpmXvNJwfeKNGCPcj0\n",
            "\n",
            "\n",
            "New experiment created. View your TensorBoard at: https://tensorboard.dev/experiment/Xtw787OIRLae1Ar8dudp5w/\n",
            "\n",
            "\u001b[1m[2022-08-09T12:23:35]\u001b[0m Started scanning logdir.\n",
            "\u001b[1m[2022-08-09T12:23:40]\u001b[0m Total uploaded: 60 scalars, 0 tensors, 2 binary objects (5.6 MB)\n",
            "\u001b[1m[2022-08-09T12:23:40]\u001b[0m Done scanning logdir.\n",
            "\n",
            "\n",
            "Done. View your TensorBoard at https://tensorboard.dev/experiment/Xtw787OIRLae1Ar8dudp5w/\n"
          ]
        }
      ]
    },
    {
      "cell_type": "markdown",
      "source": [
        "The tensorboard experiments are uploaded at this adress: https://tensorboard.dev/experiment/Xtw787OIRLae1Ar8dudp5w/\n"
      ],
      "metadata": {
        "id": "wsFUWmjij8yO"
      }
    },
    {
      "cell_type": "code",
      "source": [
        "# Check the experiments \n",
        "\n",
        "!tensorboard dev list"
      ],
      "metadata": {
        "colab": {
          "base_uri": "https://localhost:8080/"
        },
        "id": "_2BzzybykHi5",
        "outputId": "76075a0d-1935-4034-a436-318430a986ba"
      },
      "execution_count": null,
      "outputs": [
        {
          "output_type": "stream",
          "name": "stdout",
          "text": [
            "https://tensorboard.dev/experiment/Xtw787OIRLae1Ar8dudp5w/\n",
            "\tName                 EfficientNetB0 vs. ResNet50V2\n",
            "\tDescription          Comparing two different TF Hub feature extraction model architectures using 10% of the training data\n",
            "\tId                   Xtw787OIRLae1Ar8dudp5w\n",
            "\tCreated              2022-08-09 12:23:35 (4 minutes ago)\n",
            "\tUpdated              2022-08-09 12:23:40 (4 minutes ago)\n",
            "\tRuns                 4\n",
            "\tTags                 5\n",
            "\tScalars              60\n",
            "\tTensor bytes         0\n",
            "\tBinary object bytes  5918538\n",
            "Total: 1 experiment(s)\n"
          ]
        }
      ]
    },
    {
      "cell_type": "code",
      "source": [
        "# Delete an experiment\n",
        "\n",
        "#!tensorboard dev delete --experiment_id Xtw787OIRLae1Ar8dudp5w"
      ],
      "metadata": {
        "id": "Ehw2KTFwlCcN"
      },
      "execution_count": null,
      "outputs": []
    },
    {
      "cell_type": "code",
      "source": [
        "# Confirm the deletion by rechecking the experiments: \n",
        "\n",
        "#!tensorboard dev list"
      ],
      "metadata": {
        "id": "wVT96r-8lO8_"
      },
      "execution_count": null,
      "outputs": []
    },
    {
      "cell_type": "markdown",
      "source": [],
      "metadata": {
        "id": "qZUwB9hWlZZv"
      }
    }
  ]
}